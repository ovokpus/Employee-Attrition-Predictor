{
 "cells": [
  {
   "cell_type": "markdown",
   "id": "04fc29ff-859f-45e2-8b6d-750e6d39f2a7",
   "metadata": {},
   "source": [
    "# Employee Attrition Prediction Pipeline"
   ]
  },
  {
   "cell_type": "code",
   "execution_count": 2,
   "id": "7f635995-5ca7-45c1-81a2-d22deeba6203",
   "metadata": {},
   "outputs": [],
   "source": [
    "import re\n",
    "\n",
    "# to handle datasets\n",
    "import pandas as pd\n",
    "import numpy as np\n",
    "\n",
    "# for visualization\n",
    "import matplotlib.pyplot as plt\n",
    "\n",
    "# to divide train and test set\n",
    "from sklearn.model_selection import train_test_split\n",
    "\n",
    "# feature scaling\n",
    "from sklearn.preprocessing import StandardScaler\n",
    "\n",
    "# to build the models\n",
    "from sklearn.linear_model import LogisticRegression\n",
    "\n",
    "# to evaluate the models\n",
    "from sklearn.metrics import accuracy_score, roc_auc_score\n",
    "\n",
    "# to persist the model and the scaler\n",
    "import joblib\n",
    "\n",
    "# ========== NEW IMPORTS ========\n",
    "# Respect to notebook 02-Predicting-Survival-Titanic-Solution\n",
    "\n",
    "# pipeline\n",
    "from sklearn.pipeline import Pipeline\n",
    "\n",
    "# for the preprocessors\n",
    "from sklearn.base import BaseEstimator, TransformerMixin\n",
    "\n",
    "# for imputation\n",
    "from feature_engine.imputation import (\n",
    "    CategoricalImputer,\n",
    "    AddMissingIndicator,\n",
    "    MeanMedianImputer)\n",
    "\n",
    "# for encoding categorical variables\n",
    "from feature_engine.encoding import (\n",
    "    RareLabelEncoder,\n",
    "    OneHotEncoder\n",
    ")"
   ]
  },
  {
   "cell_type": "code",
   "execution_count": 3,
   "id": "8aba9380-00ef-4cc7-a6d5-8892df9e355c",
   "metadata": {},
   "outputs": [
    {
     "data": {
      "text/html": [
       "<div>\n",
       "<style scoped>\n",
       "    .dataframe tbody tr th:only-of-type {\n",
       "        vertical-align: middle;\n",
       "    }\n",
       "\n",
       "    .dataframe tbody tr th {\n",
       "        vertical-align: top;\n",
       "    }\n",
       "\n",
       "    .dataframe thead th {\n",
       "        text-align: right;\n",
       "    }\n",
       "</style>\n",
       "<table border=\"1\" class=\"dataframe\">\n",
       "  <thead>\n",
       "    <tr style=\"text-align: right;\">\n",
       "      <th></th>\n",
       "      <th>satisfaction_level</th>\n",
       "      <th>last_evaluation</th>\n",
       "      <th>number_project</th>\n",
       "      <th>average_montly_hours</th>\n",
       "      <th>time_spend_company</th>\n",
       "      <th>Work_accident</th>\n",
       "      <th>promotion_last_5years</th>\n",
       "      <th>dept</th>\n",
       "      <th>salary</th>\n",
       "      <th>attrition</th>\n",
       "    </tr>\n",
       "  </thead>\n",
       "  <tbody>\n",
       "    <tr>\n",
       "      <th>0</th>\n",
       "      <td>0.83</td>\n",
       "      <td>0.51</td>\n",
       "      <td>4</td>\n",
       "      <td>215</td>\n",
       "      <td>3</td>\n",
       "      <td>0</td>\n",
       "      <td>0</td>\n",
       "      <td>product_mng</td>\n",
       "      <td>high</td>\n",
       "      <td>0</td>\n",
       "    </tr>\n",
       "    <tr>\n",
       "      <th>1</th>\n",
       "      <td>0.44</td>\n",
       "      <td>0.51</td>\n",
       "      <td>2</td>\n",
       "      <td>150</td>\n",
       "      <td>3</td>\n",
       "      <td>0</td>\n",
       "      <td>0</td>\n",
       "      <td>support</td>\n",
       "      <td>low</td>\n",
       "      <td>1</td>\n",
       "    </tr>\n",
       "    <tr>\n",
       "      <th>2</th>\n",
       "      <td>0.57</td>\n",
       "      <td>0.78</td>\n",
       "      <td>3</td>\n",
       "      <td>134</td>\n",
       "      <td>3</td>\n",
       "      <td>0</td>\n",
       "      <td>0</td>\n",
       "      <td>RandD</td>\n",
       "      <td>medium</td>\n",
       "      <td>0</td>\n",
       "    </tr>\n",
       "    <tr>\n",
       "      <th>3</th>\n",
       "      <td>0.87</td>\n",
       "      <td>0.48</td>\n",
       "      <td>4</td>\n",
       "      <td>264</td>\n",
       "      <td>3</td>\n",
       "      <td>0</td>\n",
       "      <td>0</td>\n",
       "      <td>IT</td>\n",
       "      <td>medium</td>\n",
       "      <td>0</td>\n",
       "    </tr>\n",
       "    <tr>\n",
       "      <th>4</th>\n",
       "      <td>0.97</td>\n",
       "      <td>0.91</td>\n",
       "      <td>2</td>\n",
       "      <td>112</td>\n",
       "      <td>5</td>\n",
       "      <td>0</td>\n",
       "      <td>0</td>\n",
       "      <td>IT</td>\n",
       "      <td>low</td>\n",
       "      <td>0</td>\n",
       "    </tr>\n",
       "  </tbody>\n",
       "</table>\n",
       "</div>"
      ],
      "text/plain": [
       "   satisfaction_level  last_evaluation  number_project  average_montly_hours  \\\n",
       "0                0.83             0.51               4                   215   \n",
       "1                0.44             0.51               2                   150   \n",
       "2                0.57             0.78               3                   134   \n",
       "3                0.87             0.48               4                   264   \n",
       "4                0.97             0.91               2                   112   \n",
       "\n",
       "   time_spend_company  Work_accident  promotion_last_5years         dept  \\\n",
       "0                   3              0                      0  product_mng   \n",
       "1                   3              0                      0      support   \n",
       "2                   3              0                      0        RandD   \n",
       "3                   3              0                      0           IT   \n",
       "4                   5              0                      0           IT   \n",
       "\n",
       "   salary  attrition  \n",
       "0    high          0  \n",
       "1     low          1  \n",
       "2  medium          0  \n",
       "3  medium          0  \n",
       "4     low          0  "
      ]
     },
     "execution_count": 3,
     "metadata": {},
     "output_type": "execute_result"
    }
   ],
   "source": [
    "# load the data - it is available open source and online\n",
    "\n",
    "data = pd.read_csv('attrition.csv')\n",
    "\n",
    "# display data\n",
    "data.head()"
   ]
  },
  {
   "cell_type": "code",
   "execution_count": 4,
   "id": "1b9a7e7f-d393-49fa-9ffc-80dbcbfabc4c",
   "metadata": {},
   "outputs": [],
   "source": [
    "# replace interrogation marks by NaN values\n",
    "\n",
    "data = data.replace('?', np.nan)"
   ]
  },
  {
   "cell_type": "markdown",
   "id": "9cc05930-5253-475d-b4e5-d2432c05f2f7",
   "metadata": {},
   "source": [
    "## Configuration"
   ]
  },
  {
   "cell_type": "code",
   "execution_count": 5,
   "id": "9c2a85cc-d6b0-4b4d-a3c1-e9a37dca26fc",
   "metadata": {},
   "outputs": [],
   "source": [
    "# list of variables to be used in the pipeline's transformers\n",
    "\n",
    "target = 'attrition'\n",
    "\n",
    "NUMERICAL_VARIABLES = [c for c in data.columns if data[c].dtypes!='O' and c!=target]\n",
    "\n",
    "CATEGORICAL_VARIABLES = [c for c in data.columns if data[c].dtypes=='O']"
   ]
  },
  {
   "cell_type": "markdown",
   "id": "5e0e95a5-2c88-406d-a485-9fc37c423e79",
   "metadata": {},
   "source": [
    "## Separate data into train and test"
   ]
  },
  {
   "cell_type": "code",
   "execution_count": 7,
   "id": "72fe1673-1e26-44a6-862f-cd423a33db6a",
   "metadata": {},
   "outputs": [
    {
     "data": {
      "text/plain": [
       "((11999, 9), (3000, 9))"
      ]
     },
     "execution_count": 7,
     "metadata": {},
     "output_type": "execute_result"
    }
   ],
   "source": [
    "X_train, X_test, y_train, y_test = train_test_split(\n",
    "    data.drop('attrition', axis=1),  # predictors\n",
    "    data[target],  # target\n",
    "    test_size=0.2,  # percentage of obs in test set\n",
    "    random_state=0)  # seed to ensure reproducibility\n",
    "\n",
    "X_train.shape, X_test.shape"
   ]
  },
  {
   "cell_type": "markdown",
   "id": "bdc9dc53-2cc4-48ef-a5c5-3883a713eb8d",
   "metadata": {},
   "source": [
    "## Preprocessors\n",
    "\n",
    "* Impute categorical features with missing strings\n",
    "* Add a binary missing indicator to numerical variables with missing data\n",
    "* Fill nulls in original numerical variables with the median\n",
    "* Group rare Categories\n",
    "* Perform One Hot encoding\n",
    "* Scale features with Standard Scaler\n",
    "* Fit Logistic Regression model"
   ]
  },
  {
   "cell_type": "code",
   "execution_count": 9,
   "id": "eb15f2d8-37f9-447c-bcbc-6077f7d15c26",
   "metadata": {},
   "outputs": [],
   "source": [
    "# set up the pipeline\n",
    "attrition_pipe = Pipeline([\n",
    "\n",
    "    # ===== IMPUTATION =====\n",
    "    # impute categorical variables with string missing\n",
    "    ('categorical_imputation', CategoricalImputer(\n",
    "        imputation_method='missing', variables=CATEGORICAL_VARIABLES)),\n",
    "\n",
    "    # add missing indicator to numerical variables\n",
    "    ('missing_indicator', AddMissingIndicator(variables=NUMERICAL_VARIABLES)),\n",
    "\n",
    "    # impute numerical variables with the median\n",
    "    ('median_imputation', MeanMedianImputer(\n",
    "        imputation_method='median', variables=NUMERICAL_VARIABLES)),\n",
    "    \n",
    "\n",
    "    # == CATEGORICAL ENCODING ======\n",
    "    # remove categories present in less than 5% of the observations (0.05)\n",
    "    # group them in one category called 'Rare'\n",
    "    ('rare_label_encoder', RareLabelEncoder(\n",
    "        tol=0.05, n_categories=1, variables=CATEGORICAL_VARIABLES)),\n",
    "\n",
    "    # encode categorical variables using one hot encoding into k-1 variables\n",
    "    ('categorical_encoder', OneHotEncoder(\n",
    "        drop_last=True, variables=CATEGORICAL_VARIABLES)),\n",
    "\n",
    "    # scale\n",
    "    ('scaler', StandardScaler()),\n",
    "\n",
    "    ('Logit', LogisticRegression(C=0.0005, random_state=0)),\n",
    "])"
   ]
  },
  {
   "cell_type": "code",
   "execution_count": 10,
   "id": "5799ac25-9e03-48c4-a702-0c5725031f00",
   "metadata": {},
   "outputs": [
    {
     "data": {
      "text/html": [
       "<style>#sk-container-id-1 {color: black;background-color: white;}#sk-container-id-1 pre{padding: 0;}#sk-container-id-1 div.sk-toggleable {background-color: white;}#sk-container-id-1 label.sk-toggleable__label {cursor: pointer;display: block;width: 100%;margin-bottom: 0;padding: 0.3em;box-sizing: border-box;text-align: center;}#sk-container-id-1 label.sk-toggleable__label-arrow:before {content: \"▸\";float: left;margin-right: 0.25em;color: #696969;}#sk-container-id-1 label.sk-toggleable__label-arrow:hover:before {color: black;}#sk-container-id-1 div.sk-estimator:hover label.sk-toggleable__label-arrow:before {color: black;}#sk-container-id-1 div.sk-toggleable__content {max-height: 0;max-width: 0;overflow: hidden;text-align: left;background-color: #f0f8ff;}#sk-container-id-1 div.sk-toggleable__content pre {margin: 0.2em;color: black;border-radius: 0.25em;background-color: #f0f8ff;}#sk-container-id-1 input.sk-toggleable__control:checked~div.sk-toggleable__content {max-height: 200px;max-width: 100%;overflow: auto;}#sk-container-id-1 input.sk-toggleable__control:checked~label.sk-toggleable__label-arrow:before {content: \"▾\";}#sk-container-id-1 div.sk-estimator input.sk-toggleable__control:checked~label.sk-toggleable__label {background-color: #d4ebff;}#sk-container-id-1 div.sk-label input.sk-toggleable__control:checked~label.sk-toggleable__label {background-color: #d4ebff;}#sk-container-id-1 input.sk-hidden--visually {border: 0;clip: rect(1px 1px 1px 1px);clip: rect(1px, 1px, 1px, 1px);height: 1px;margin: -1px;overflow: hidden;padding: 0;position: absolute;width: 1px;}#sk-container-id-1 div.sk-estimator {font-family: monospace;background-color: #f0f8ff;border: 1px dotted black;border-radius: 0.25em;box-sizing: border-box;margin-bottom: 0.5em;}#sk-container-id-1 div.sk-estimator:hover {background-color: #d4ebff;}#sk-container-id-1 div.sk-parallel-item::after {content: \"\";width: 100%;border-bottom: 1px solid gray;flex-grow: 1;}#sk-container-id-1 div.sk-label:hover label.sk-toggleable__label {background-color: #d4ebff;}#sk-container-id-1 div.sk-serial::before {content: \"\";position: absolute;border-left: 1px solid gray;box-sizing: border-box;top: 0;bottom: 0;left: 50%;z-index: 0;}#sk-container-id-1 div.sk-serial {display: flex;flex-direction: column;align-items: center;background-color: white;padding-right: 0.2em;padding-left: 0.2em;position: relative;}#sk-container-id-1 div.sk-item {position: relative;z-index: 1;}#sk-container-id-1 div.sk-parallel {display: flex;align-items: stretch;justify-content: center;background-color: white;position: relative;}#sk-container-id-1 div.sk-item::before, #sk-container-id-1 div.sk-parallel-item::before {content: \"\";position: absolute;border-left: 1px solid gray;box-sizing: border-box;top: 0;bottom: 0;left: 50%;z-index: -1;}#sk-container-id-1 div.sk-parallel-item {display: flex;flex-direction: column;z-index: 1;position: relative;background-color: white;}#sk-container-id-1 div.sk-parallel-item:first-child::after {align-self: flex-end;width: 50%;}#sk-container-id-1 div.sk-parallel-item:last-child::after {align-self: flex-start;width: 50%;}#sk-container-id-1 div.sk-parallel-item:only-child::after {width: 0;}#sk-container-id-1 div.sk-dashed-wrapped {border: 1px dashed gray;margin: 0 0.4em 0.5em 0.4em;box-sizing: border-box;padding-bottom: 0.4em;background-color: white;}#sk-container-id-1 div.sk-label label {font-family: monospace;font-weight: bold;display: inline-block;line-height: 1.2em;}#sk-container-id-1 div.sk-label-container {text-align: center;}#sk-container-id-1 div.sk-container {/* jupyter's `normalize.less` sets `[hidden] { display: none; }` but bootstrap.min.css set `[hidden] { display: none !important; }` so we also need the `!important` here to be able to override the default hidden behavior on the sphinx rendered scikit-learn.org. See: https://github.com/scikit-learn/scikit-learn/issues/21755 */display: inline-block !important;position: relative;}#sk-container-id-1 div.sk-text-repr-fallback {display: none;}</style><div id=\"sk-container-id-1\" class=\"sk-top-container\"><div class=\"sk-text-repr-fallback\"><pre>Pipeline(steps=[(&#x27;categorical_imputation&#x27;,\n",
       "                 CategoricalImputer(variables=[&#x27;dept&#x27;, &#x27;salary&#x27;])),\n",
       "                (&#x27;missing_indicator&#x27;,\n",
       "                 AddMissingIndicator(variables=[&#x27;satisfaction_level&#x27;,\n",
       "                                                &#x27;last_evaluation&#x27;,\n",
       "                                                &#x27;number_project&#x27;,\n",
       "                                                &#x27;average_montly_hours&#x27;,\n",
       "                                                &#x27;time_spend_company&#x27;,\n",
       "                                                &#x27;Work_accident&#x27;,\n",
       "                                                &#x27;promotion_last_5years&#x27;])),\n",
       "                (&#x27;median_imputation&#x27;,\n",
       "                 MeanMedianImputer(variables=[&#x27;satisfaction_...\n",
       "                                              &#x27;number_project&#x27;,\n",
       "                                              &#x27;average_montly_hours&#x27;,\n",
       "                                              &#x27;time_spend_company&#x27;,\n",
       "                                              &#x27;Work_accident&#x27;,\n",
       "                                              &#x27;promotion_last_5years&#x27;])),\n",
       "                (&#x27;rare_label_encoder&#x27;,\n",
       "                 RareLabelEncoder(n_categories=1,\n",
       "                                  variables=[&#x27;dept&#x27;, &#x27;salary&#x27;])),\n",
       "                (&#x27;categorical_encoder&#x27;,\n",
       "                 OneHotEncoder(drop_last=True, variables=[&#x27;dept&#x27;, &#x27;salary&#x27;])),\n",
       "                (&#x27;scaler&#x27;, StandardScaler()),\n",
       "                (&#x27;Logit&#x27;, LogisticRegression(C=0.0005, random_state=0))])</pre><b>In a Jupyter environment, please rerun this cell to show the HTML representation or trust the notebook. <br />On GitHub, the HTML representation is unable to render, please try loading this page with nbviewer.org.</b></div><div class=\"sk-container\" hidden><div class=\"sk-item sk-dashed-wrapped\"><div class=\"sk-label-container\"><div class=\"sk-label sk-toggleable\"><input class=\"sk-toggleable__control sk-hidden--visually\" id=\"sk-estimator-id-1\" type=\"checkbox\" ><label for=\"sk-estimator-id-1\" class=\"sk-toggleable__label sk-toggleable__label-arrow\">Pipeline</label><div class=\"sk-toggleable__content\"><pre>Pipeline(steps=[(&#x27;categorical_imputation&#x27;,\n",
       "                 CategoricalImputer(variables=[&#x27;dept&#x27;, &#x27;salary&#x27;])),\n",
       "                (&#x27;missing_indicator&#x27;,\n",
       "                 AddMissingIndicator(variables=[&#x27;satisfaction_level&#x27;,\n",
       "                                                &#x27;last_evaluation&#x27;,\n",
       "                                                &#x27;number_project&#x27;,\n",
       "                                                &#x27;average_montly_hours&#x27;,\n",
       "                                                &#x27;time_spend_company&#x27;,\n",
       "                                                &#x27;Work_accident&#x27;,\n",
       "                                                &#x27;promotion_last_5years&#x27;])),\n",
       "                (&#x27;median_imputation&#x27;,\n",
       "                 MeanMedianImputer(variables=[&#x27;satisfaction_...\n",
       "                                              &#x27;number_project&#x27;,\n",
       "                                              &#x27;average_montly_hours&#x27;,\n",
       "                                              &#x27;time_spend_company&#x27;,\n",
       "                                              &#x27;Work_accident&#x27;,\n",
       "                                              &#x27;promotion_last_5years&#x27;])),\n",
       "                (&#x27;rare_label_encoder&#x27;,\n",
       "                 RareLabelEncoder(n_categories=1,\n",
       "                                  variables=[&#x27;dept&#x27;, &#x27;salary&#x27;])),\n",
       "                (&#x27;categorical_encoder&#x27;,\n",
       "                 OneHotEncoder(drop_last=True, variables=[&#x27;dept&#x27;, &#x27;salary&#x27;])),\n",
       "                (&#x27;scaler&#x27;, StandardScaler()),\n",
       "                (&#x27;Logit&#x27;, LogisticRegression(C=0.0005, random_state=0))])</pre></div></div></div><div class=\"sk-serial\"><div class=\"sk-item\"><div class=\"sk-estimator sk-toggleable\"><input class=\"sk-toggleable__control sk-hidden--visually\" id=\"sk-estimator-id-2\" type=\"checkbox\" ><label for=\"sk-estimator-id-2\" class=\"sk-toggleable__label sk-toggleable__label-arrow\">CategoricalImputer</label><div class=\"sk-toggleable__content\"><pre>CategoricalImputer(variables=[&#x27;dept&#x27;, &#x27;salary&#x27;])</pre></div></div></div><div class=\"sk-item\"><div class=\"sk-estimator sk-toggleable\"><input class=\"sk-toggleable__control sk-hidden--visually\" id=\"sk-estimator-id-3\" type=\"checkbox\" ><label for=\"sk-estimator-id-3\" class=\"sk-toggleable__label sk-toggleable__label-arrow\">AddMissingIndicator</label><div class=\"sk-toggleable__content\"><pre>AddMissingIndicator(variables=[&#x27;satisfaction_level&#x27;, &#x27;last_evaluation&#x27;,\n",
       "                               &#x27;number_project&#x27;, &#x27;average_montly_hours&#x27;,\n",
       "                               &#x27;time_spend_company&#x27;, &#x27;Work_accident&#x27;,\n",
       "                               &#x27;promotion_last_5years&#x27;])</pre></div></div></div><div class=\"sk-item\"><div class=\"sk-estimator sk-toggleable\"><input class=\"sk-toggleable__control sk-hidden--visually\" id=\"sk-estimator-id-4\" type=\"checkbox\" ><label for=\"sk-estimator-id-4\" class=\"sk-toggleable__label sk-toggleable__label-arrow\">MeanMedianImputer</label><div class=\"sk-toggleable__content\"><pre>MeanMedianImputer(variables=[&#x27;satisfaction_level&#x27;, &#x27;last_evaluation&#x27;,\n",
       "                             &#x27;number_project&#x27;, &#x27;average_montly_hours&#x27;,\n",
       "                             &#x27;time_spend_company&#x27;, &#x27;Work_accident&#x27;,\n",
       "                             &#x27;promotion_last_5years&#x27;])</pre></div></div></div><div class=\"sk-item\"><div class=\"sk-estimator sk-toggleable\"><input class=\"sk-toggleable__control sk-hidden--visually\" id=\"sk-estimator-id-5\" type=\"checkbox\" ><label for=\"sk-estimator-id-5\" class=\"sk-toggleable__label sk-toggleable__label-arrow\">RareLabelEncoder</label><div class=\"sk-toggleable__content\"><pre>RareLabelEncoder(n_categories=1, variables=[&#x27;dept&#x27;, &#x27;salary&#x27;])</pre></div></div></div><div class=\"sk-item\"><div class=\"sk-estimator sk-toggleable\"><input class=\"sk-toggleable__control sk-hidden--visually\" id=\"sk-estimator-id-6\" type=\"checkbox\" ><label for=\"sk-estimator-id-6\" class=\"sk-toggleable__label sk-toggleable__label-arrow\">OneHotEncoder</label><div class=\"sk-toggleable__content\"><pre>OneHotEncoder(drop_last=True, variables=[&#x27;dept&#x27;, &#x27;salary&#x27;])</pre></div></div></div><div class=\"sk-item\"><div class=\"sk-estimator sk-toggleable\"><input class=\"sk-toggleable__control sk-hidden--visually\" id=\"sk-estimator-id-7\" type=\"checkbox\" ><label for=\"sk-estimator-id-7\" class=\"sk-toggleable__label sk-toggleable__label-arrow\">StandardScaler</label><div class=\"sk-toggleable__content\"><pre>StandardScaler()</pre></div></div></div><div class=\"sk-item\"><div class=\"sk-estimator sk-toggleable\"><input class=\"sk-toggleable__control sk-hidden--visually\" id=\"sk-estimator-id-8\" type=\"checkbox\" ><label for=\"sk-estimator-id-8\" class=\"sk-toggleable__label sk-toggleable__label-arrow\">LogisticRegression</label><div class=\"sk-toggleable__content\"><pre>LogisticRegression(C=0.0005, random_state=0)</pre></div></div></div></div></div></div></div>"
      ],
      "text/plain": [
       "Pipeline(steps=[('categorical_imputation',\n",
       "                 CategoricalImputer(variables=['dept', 'salary'])),\n",
       "                ('missing_indicator',\n",
       "                 AddMissingIndicator(variables=['satisfaction_level',\n",
       "                                                'last_evaluation',\n",
       "                                                'number_project',\n",
       "                                                'average_montly_hours',\n",
       "                                                'time_spend_company',\n",
       "                                                'Work_accident',\n",
       "                                                'promotion_last_5years'])),\n",
       "                ('median_imputation',\n",
       "                 MeanMedianImputer(variables=['satisfaction_...\n",
       "                                              'number_project',\n",
       "                                              'average_montly_hours',\n",
       "                                              'time_spend_company',\n",
       "                                              'Work_accident',\n",
       "                                              'promotion_last_5years'])),\n",
       "                ('rare_label_encoder',\n",
       "                 RareLabelEncoder(n_categories=1,\n",
       "                                  variables=['dept', 'salary'])),\n",
       "                ('categorical_encoder',\n",
       "                 OneHotEncoder(drop_last=True, variables=['dept', 'salary'])),\n",
       "                ('scaler', StandardScaler()),\n",
       "                ('Logit', LogisticRegression(C=0.0005, random_state=0))])"
      ]
     },
     "execution_count": 10,
     "metadata": {},
     "output_type": "execute_result"
    }
   ],
   "source": [
    "# train the pipeline\n",
    "attrition_pipe.fit(X_train, y_train)"
   ]
  },
  {
   "cell_type": "markdown",
   "id": "bd99b79b-d463-41b5-aa6c-c219bea0488f",
   "metadata": {},
   "source": [
    "## Make predictions and evaluate model performance\n",
    "\n",
    "Determine:\n",
    "\n",
    "* `roc_auc`\n",
    "* `accuracy`"
   ]
  },
  {
   "cell_type": "code",
   "execution_count": 12,
   "id": "e9102bd6-30c1-40d2-bd67-9ead5c2d9f71",
   "metadata": {},
   "outputs": [
    {
     "name": "stdout",
     "output_type": "stream",
     "text": [
      "train roc-auc: 0.8063670284582709\n",
      "train accuracy: 0.7816484707058922\n",
      "\n",
      "test roc-auc: 0.8135549106783616\n",
      "test accuracy: 0.7913333333333333\n",
      "\n"
     ]
    }
   ],
   "source": [
    "# make predictions for test set\n",
    "class_ = attrition_pipe.predict(X_train)\n",
    "pred = attrition_pipe.predict_proba(X_train)[:,1]\n",
    "\n",
    "# determine roc_auc and accuracy\n",
    "print('train roc-auc: {}'.format(roc_auc_score(y_train, pred)))\n",
    "print('train accuracy: {}'.format(accuracy_score(y_train, class_)))\n",
    "print()\n",
    "\n",
    "# make predictions for test set\n",
    "class_ = attrition_pipe.predict(X_test)\n",
    "pred = attrition_pipe.predict_proba(X_test)[:,1]\n",
    "\n",
    "# determine roc_auc and accuracy\n",
    "print('test roc-auc: {}'.format(roc_auc_score(y_test, pred)))\n",
    "print('test accuracy: {}'.format(accuracy_score(y_test, class_)))\n",
    "print()"
   ]
  },
  {
   "cell_type": "code",
   "execution_count": 13,
   "id": "184419a3-0782-4ea3-ab6b-5582412f6bfa",
   "metadata": {},
   "outputs": [
    {
     "data": {
      "text/plain": [
       "['satisfaction_level',\n",
       " 'last_evaluation',\n",
       " 'number_project',\n",
       " 'average_montly_hours',\n",
       " 'time_spend_company',\n",
       " 'Work_accident',\n",
       " 'promotion_last_5years']"
      ]
     },
     "execution_count": 13,
     "metadata": {},
     "output_type": "execute_result"
    }
   ],
   "source": [
    "NUMERICAL_VARIABLES"
   ]
  },
  {
   "cell_type": "code",
   "execution_count": 14,
   "id": "93db5075-cc84-4ec9-abcb-894f6efa2439",
   "metadata": {},
   "outputs": [
    {
     "data": {
      "text/plain": [
       "['dept', 'salary']"
      ]
     },
     "execution_count": 14,
     "metadata": {},
     "output_type": "execute_result"
    }
   ],
   "source": [
    "CATEGORICAL_VARIABLES"
   ]
  },
  {
   "cell_type": "code",
   "execution_count": null,
   "id": "f4586eaf-46ff-41ad-a492-26141d123534",
   "metadata": {},
   "outputs": [],
   "source": []
  }
 ],
 "metadata": {
  "kernelspec": {
   "display_name": "Python 3 (ipykernel)",
   "language": "python",
   "name": "python3"
  },
  "language_info": {
   "codemirror_mode": {
    "name": "ipython",
    "version": 3
   },
   "file_extension": ".py",
   "mimetype": "text/x-python",
   "name": "python",
   "nbconvert_exporter": "python",
   "pygments_lexer": "ipython3",
   "version": "3.10.6"
  }
 },
 "nbformat": 4,
 "nbformat_minor": 5
}
